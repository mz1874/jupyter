{
 "cells": [
  {
   "cell_type": "code",
   "execution_count": null,
   "metadata": {
    "collapsed": true,
    "ExecuteTime": {
     "start_time": "2024-04-04T21:22:09.995667Z",
     "end_time": "2024-04-04T21:22:10.000219Z"
    }
   },
   "outputs": [],
   "source": [
    "import numpy as np\n",
    "\n",
    "#测试自定义数据类型\n",
    "#一个数组包含三个对象\n",
    "data = [\n",
    "    ('zs', [10,20,30], 10),\n",
    "    ('ls', [20,30,40], 20),\n",
    "    ('ww', [30,40,50], 30)\n",
    "]\n",
    "persons = np.array(data, dtype='U2,3int32,int32')\n",
    "\n"
   ]
  },
  {
   "cell_type": "code",
   "execution_count": null,
   "outputs": [],
   "source": [
    "persons"
   ],
   "metadata": {
    "collapsed": false,
    "ExecuteTime": {
     "start_time": "2024-04-04T21:24:47.942008Z",
     "end_time": "2024-04-04T21:24:47.999474Z"
    }
   }
  },
  {
   "cell_type": "code",
   "execution_count": null,
   "outputs": [],
   "source": [
    "persons[0][1][0]"
   ],
   "metadata": {
    "collapsed": false,
    "ExecuteTime": {
     "start_time": "2024-04-04T21:28:04.801635Z",
     "end_time": "2024-04-04T21:28:04.843867Z"
    }
   }
  },
  {
   "cell_type": "code",
   "execution_count": null,
   "outputs": [],
   "source": [
    "# 使用第二种方式来设置\n",
    "# 定义一个String 类型的 长度为 2  定义score 从低位开始存储, int 类型 3, 4字节长度 32位, 定义age\n",
    "persons2 = np.array(data, dtype=[('name', 'S2'), ('score', '<i4', 3), ('age', '<i4')])"
   ],
   "metadata": {
    "collapsed": false,
    "ExecuteTime": {
     "start_time": "2024-04-04T21:35:16.337170Z",
     "end_time": "2024-04-04T21:35:16.395001Z"
    }
   }
  },
  {
   "cell_type": "code",
   "execution_count": null,
   "outputs": [],
   "source": [
    "#第三种,定义的时候指定数据格式(推荐使用)\n",
    "dt = np.array(data, dtype={\n",
    "    'names':['name', 'score', 'age'],\n",
    "    \"formats\":['U2', '3int32', 'int32']\n",
    "})\n",
    "\n"
   ],
   "metadata": {
    "collapsed": false,
    "ExecuteTime": {
     "start_time": "2024-04-04T22:53:05.116313Z",
     "end_time": "2024-04-04T22:53:05.125074Z"
    }
   }
  },
  {
   "cell_type": "code",
   "execution_count": 30,
   "outputs": [
    {
     "data": {
      "text/plain": "array([10, 20, 30], dtype=int32)"
     },
     "execution_count": 30,
     "metadata": {},
     "output_type": "execute_result"
    }
   ],
   "source": [
    "dt[0]['score']"
   ],
   "metadata": {
    "collapsed": false,
    "ExecuteTime": {
     "start_time": "2024-04-04T22:54:05.554097Z",
     "end_time": "2024-04-04T22:54:05.561783Z"
    }
   }
  },
  {
   "cell_type": "code",
   "execution_count": 31,
   "outputs": [
    {
     "data": {
      "text/plain": "10"
     },
     "execution_count": 31,
     "metadata": {},
     "output_type": "execute_result"
    }
   ],
   "source": [
    "dt[0]['score'][0]"
   ],
   "metadata": {
    "collapsed": false,
    "ExecuteTime": {
     "start_time": "2024-04-04T22:54:13.330382Z",
     "end_time": "2024-04-04T22:54:13.417397Z"
    }
   }
  },
  {
   "cell_type": "code",
   "execution_count": 32,
   "outputs": [
    {
     "data": {
      "text/plain": "['2011-01-01', '2021', '2021-01', '2021-01-02 10:10:10']"
     },
     "execution_count": 32,
     "metadata": {},
     "output_type": "execute_result"
    }
   ],
   "source": [
    "# 时间的存储\n",
    "original_data = ['2011-01-01', '2021', '2021-01', '2021-01-02 10:10:10']\n",
    "\n",
    "original_data"
   ],
   "metadata": {
    "collapsed": false,
    "ExecuteTime": {
     "start_time": "2024-04-04T23:11:32.547506Z",
     "end_time": "2024-04-04T23:11:32.646518Z"
    }
   }
  },
  {
   "cell_type": "code",
   "execution_count": 34,
   "outputs": [
    {
     "data": {
      "text/plain": "array(['2011-01-01', '2021', '2021-01', '2021-01-02 10:10:10'],\n      dtype='<U19')"
     },
     "execution_count": 34,
     "metadata": {},
     "output_type": "execute_result"
    }
   ],
   "source": [
    "dates = np.array(original_data)\n",
    "dates"
   ],
   "metadata": {
    "collapsed": false,
    "ExecuteTime": {
     "start_time": "2024-04-04T23:12:34.514684Z",
     "end_time": "2024-04-04T23:12:34.588428Z"
    }
   }
  },
  {
   "cell_type": "code",
   "execution_count": 48,
   "outputs": [
    {
     "data": {
      "text/plain": "array(['2111-01-01T00:00:00', '2021-01-01T00:00:00',\n       '2021-01-01T00:00:00', '2021-01-01T00:00:00'],\n      dtype='datetime64[s]')"
     },
     "execution_count": 48,
     "metadata": {},
     "output_type": "execute_result"
    }
   ],
   "source": [
    "# 类型转换 D day M month year H M S\n",
    "# 可以用来做对日期的一些操作\n",
    "# 支持缩写的数据类型 bool ?\n",
    "\"\"\"\n",
    "bool ?\n",
    "int 8 16 32 64  i1 i2 i4 i8\n",
    "uint 8 16 32 64 u1 u2 u4 u8\n",
    "float 16 32 64  f2 f4 f8\n",
    "str U\n",
    "dateTime\n",
    "complex 64 128 c8 c16\n",
    "\"\"\"\n",
    "dates = dates.astype('M8[s]')\n",
    "dates"
   ],
   "metadata": {
    "collapsed": false,
    "ExecuteTime": {
     "start_time": "2024-04-04T23:23:36.230676Z",
     "end_time": "2024-04-04T23:23:36.285839Z"
    }
   }
  },
  {
   "cell_type": "code",
   "execution_count": 42,
   "outputs": [],
   "source": [
    "# + 日期\n",
    "dates [0]=dates [0] + 100;"
   ],
   "metadata": {
    "collapsed": false,
    "ExecuteTime": {
     "start_time": "2024-04-04T23:18:12.426722Z",
     "end_time": "2024-04-04T23:18:12.432826Z"
    }
   }
  },
  {
   "cell_type": "code",
   "execution_count": 44,
   "outputs": [
    {
     "data": {
      "text/plain": "array(['2111', '2021', '2021', '2021'], dtype='datetime64[Y]')"
     },
     "execution_count": 44,
     "metadata": {},
     "output_type": "execute_result"
    }
   ],
   "source": [
    "dates"
   ],
   "metadata": {
    "collapsed": false,
    "ExecuteTime": {
     "start_time": "2024-04-04T23:18:24.868718Z",
     "end_time": "2024-04-04T23:18:24.930364Z"
    }
   }
  },
  {
   "cell_type": "code",
   "execution_count": null,
   "outputs": [],
   "source": [],
   "metadata": {
    "collapsed": false
   }
  }
 ],
 "metadata": {
  "kernelspec": {
   "display_name": "Python 3",
   "language": "python",
   "name": "python3"
  },
  "language_info": {
   "codemirror_mode": {
    "name": "ipython",
    "version": 2
   },
   "file_extension": ".py",
   "mimetype": "text/x-python",
   "name": "python",
   "nbconvert_exporter": "python",
   "pygments_lexer": "ipython2",
   "version": "2.7.6"
  }
 },
 "nbformat": 4,
 "nbformat_minor": 0
}
